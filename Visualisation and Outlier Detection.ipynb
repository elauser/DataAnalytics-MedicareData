{
 "cells": [
  {
   "cell_type": "markdown",
   "metadata": {},
   "source": [
    "# 1. Distribution and Outliers\n",
    "Read in the data and plot histograms/densities or scatter plots for each of the following.\n",
    "Make sure to label the axis of the plots appropriately.\n",
    "\n",
    "In each plot, identify at least one outlier and discuss whether the outlier(s) are surprising\n",
    "or expected given the location of the Provider"
   ]
  },
  {
   "cell_type": "code",
   "execution_count": 1,
   "metadata": {},
   "outputs": [],
   "source": [
    "import plotly.express as px\n",
    "import plotly.graph_objects as go\n",
    "import pandas as pd\n",
    "\n",
    "df = pd.read_csv('data.csv')"
   ]
  },
  {
   "cell_type": "markdown",
   "metadata": {},
   "source": [
    "## 1.1 Total Discharges"
   ]
  },
  {
   "cell_type": "code",
   "execution_count": null,
   "metadata": {
    "scrolled": true
   },
   "outputs": [],
   "source": [
    "fig = px.histogram(df, x=' Total Discharges ', log_x=True, log_y=True)\n",
    "fig.show()"
   ]
  },
  {
   "cell_type": "code",
   "execution_count": null,
   "metadata": {},
   "outputs": [],
   "source": [
    "outlier = df[df[' Total Discharges '] == df[' Total Discharges '].max()]\n",
    "state = outlier['Provider State']\n",
    "states_projected = df[['Provider State', ' Total Discharges ']]\n",
    "means = states_projected.groupby('Provider State').mean()\n",
    "print(state)\n",
    "print(means.sort_values(by=' Total Discharges ', ascending=False))"
   ]
  },
  {
   "cell_type": "markdown",
   "metadata": {},
   "source": [
    "## 1.2 Average Covered Charges"
   ]
  },
  {
   "cell_type": "code",
   "execution_count": null,
   "metadata": {},
   "outputs": [],
   "source": [
    "fig = px.histogram(df, x=' Average Covered Charges ')\n",
    "fig.show()\n",
    "df2 = df[df[' Average Covered Charges '].str[1:].astype(float) <= 200000]\n",
    "fig2 = px.histogram(df2, x=' Average Covered Charges ')\n",
    "fig2.show()\n",
    "\n",
    "print(df[df[' Average Covered Charges '].str[1:].astype(float) >= 920000][' Average Covered Charges '])"
   ]
  },
  {
   "cell_type": "code",
   "execution_count": null,
   "metadata": {},
   "outputs": [],
   "source": [
    "#Outlier Detection\n",
    "outlier = df[df[' Average Covered Charges '].str[1:].astype(float) >= 920000]\n",
    "state = outlier['Provider State']\n",
    "states_projected = df[['Provider State', ' Average Covered Charges ']]\n",
    "states_projected[' Average Covered Charges '] = states_projected[' Average Covered Charges '].apply(lambda x : float(x[1:]))\n",
    "means = states_projected.groupby('Provider State').mean()\n",
    "print(state)\n",
    "print(means.idxmax())"
   ]
  },
  {
   "cell_type": "markdown",
   "metadata": {},
   "source": [
    "## 1.3 Average Total Payments vs. Average Medicare Payments"
   ]
  },
  {
   "cell_type": "code",
   "execution_count": null,
   "metadata": {},
   "outputs": [],
   "source": [
    "#fig = px.density_contour(df, x=' Average Total Payments ', y='Average Medicare Payments')\n",
    "#fig.update_traces(contours_coloring=\"fill\", contours_showlabels = True)\n",
    "#fig.show()\n",
    "\n",
    "fig = px.density_heatmap(df, \n",
    "                 x=\" Average Total Payments \", \n",
    "                 y=\"Average Medicare Payments\", \n",
    "                 marginal_x=\"histogram\", \n",
    "                 marginal_y=\"histogram\",\n",
    "                 log_x=True, log_y=True)\n",
    "fig.show()\n"
   ]
  },
  {
   "cell_type": "code",
   "execution_count": 15,
   "metadata": {},
   "outputs": [
    {
     "name": "stdout",
     "output_type": "stream",
     "text": [
      "38923    MA\n",
      "Name: Provider State, dtype: object\n",
      "                      fe\n",
      "Provider State          \n",
      "MD              1.130393\n",
      "DC              1.137958\n",
      "CA              1.139989\n",
      "VT              1.157114\n",
      "NY              1.159062\n",
      "MA              1.159489\n",
      "NJ              1.160676\n",
      "CT              1.165199\n",
      "AK              1.168100\n",
      "ND              1.169934\n",
      "MI              1.170656\n",
      "RI              1.175780\n",
      "ME              1.185032\n",
      "NC              1.186565\n",
      "PA              1.199616\n",
      "NH              1.199806\n",
      "OH              1.200630\n",
      "AZ              1.202899\n",
      "MS              1.203162\n",
      "KY              1.203923\n",
      "OK              1.204589\n",
      "NM              1.205520\n",
      "WV              1.205712\n",
      "MN              1.205758\n",
      "MO              1.205892\n",
      "OR              1.205966\n",
      "WA              1.206237\n",
      "MT              1.207806\n",
      "DE              1.207895\n",
      "WI              1.209737\n",
      "AR              1.211039\n",
      "FL              1.211457\n",
      "ID              1.213079\n",
      "IA              1.213346\n",
      "SC              1.213451\n",
      "TX              1.213993\n",
      "SD              1.214359\n",
      "WY              1.218905\n",
      "GA              1.219043\n",
      "CO              1.220039\n",
      "IL              1.220870\n",
      "LA              1.222851\n",
      "TN              1.222938\n",
      "IN              1.223912\n",
      "KS              1.224509\n",
      "NV              1.226993\n",
      "HI              1.227347\n",
      "NE              1.233293\n",
      "VA              1.237200\n",
      "AL              1.245422\n",
      "UT              1.304131\n",
      "                      fe\n",
      "Provider State          \n",
      "SD              0.424464\n",
      "MA              0.369775\n",
      "HI              0.305848\n",
      "UT              0.231175\n",
      "WA              0.225730\n",
      "LA              0.205539\n",
      "IL              0.204377\n",
      "WY              0.196506\n",
      "NM              0.196457\n",
      "AL              0.194278\n",
      "AK              0.193341\n",
      "NE              0.191014\n",
      "IN              0.184082\n",
      "TX              0.179003\n",
      "PA              0.175287\n",
      "VA              0.175240\n",
      "CO              0.173096\n",
      "VT              0.172773\n",
      "KS              0.167365\n",
      "NV              0.165841\n",
      "GA              0.164471\n",
      "FL              0.164142\n",
      "MN              0.162511\n",
      "AZ              0.159041\n",
      "WI              0.155396\n",
      "TN              0.154297\n",
      "OR              0.154110\n",
      "MO              0.151453\n",
      "NH              0.146719\n",
      "MT              0.145964\n",
      "DE              0.145540\n",
      "SC              0.143435\n",
      "ID              0.139179\n",
      "KY              0.138016\n",
      "OH              0.137865\n",
      "AR              0.137615\n",
      "IA              0.136701\n",
      "WV              0.135747\n",
      "MS              0.134031\n",
      "NJ              0.133803\n",
      "RI              0.130468\n",
      "OK              0.127158\n",
      "CA              0.123787\n",
      "NY              0.122442\n",
      "NC              0.119742\n",
      "MI              0.117983\n",
      "CT              0.116102\n",
      "ND              0.113060\n",
      "ME              0.109219\n",
      "DC              0.095710\n",
      "MD              0.084071\n"
     ]
    }
   ],
   "source": [
    "# Outlier Analysis\n",
    "\n",
    "\n",
    "df['fe'] = df[\" Average Total Payments \"].str[1:].astype(float) / df[\"Average Medicare Payments\"].str[1:].astype(float)\n",
    "states = df[['Provider State', 'fe']]\n",
    "means = states.groupby('Provider State').mean()\n",
    "stda = states.groupby('Provider State').std()\n",
    "o_max = df['fe'].max()\n",
    "outlier = df[df['fe'] == o_max]['Provider State']\n",
    "print(outlier)\n",
    "print(means.sort_values(by='fe'))\n",
    "print(stda.sort_values(by='fe', ascending=False))"
   ]
  },
  {
   "cell_type": "markdown",
   "metadata": {},
   "source": [
    "## 1.4 Average Covered Charges vs. Average Medicare Payments"
   ]
  },
  {
   "cell_type": "code",
   "execution_count": null,
   "metadata": {},
   "outputs": [],
   "source": [
    "fig = px.scatter(df, \n",
    "                 x=\" Average Covered Charges \", \n",
    "                 y=\"Average Medicare Payments\", \n",
    "                 marginal_x=\"histogram\", \n",
    "                 marginal_y=\"histogram\")\n",
    "fig.show()"
   ]
  },
  {
   "cell_type": "code",
   "execution_count": null,
   "metadata": {},
   "outputs": [],
   "source": [
    "# Outlier Analysis\n"
   ]
  },
  {
   "cell_type": "code",
   "execution_count": null,
   "metadata": {},
   "outputs": [],
   "source": []
  }
 ],
 "metadata": {
  "kernelspec": {
   "display_name": "Python 3",
   "language": "python",
   "name": "python3"
  },
  "language_info": {
   "codemirror_mode": {
    "name": "ipython",
    "version": 3
   },
   "file_extension": ".py",
   "mimetype": "text/x-python",
   "name": "python",
   "nbconvert_exporter": "python",
   "pygments_lexer": "ipython3",
   "version": "3.8.4"
  }
 },
 "nbformat": 4,
 "nbformat_minor": 4
}
